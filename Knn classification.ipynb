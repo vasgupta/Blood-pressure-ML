{
 "cells": [
  {
   "cell_type": "code",
   "execution_count": 1,
   "metadata": {},
   "outputs": [],
   "source": [
    "# importing data science libraries\n",
    "import pandas as pd\n",
    "import seaborn as sns\n",
    "import numpy as np\n",
    "from sklearn.neighbors import KNeighborsRegressor"
   ]
  },
  {
   "cell_type": "code",
   "execution_count": 2,
   "metadata": {},
   "outputs": [
    {
     "data": {
      "text/html": [
       "<div>\n",
       "<style scoped>\n",
       "    .dataframe tbody tr th:only-of-type {\n",
       "        vertical-align: middle;\n",
       "    }\n",
       "\n",
       "    .dataframe tbody tr th {\n",
       "        vertical-align: top;\n",
       "    }\n",
       "\n",
       "    .dataframe thead th {\n",
       "        text-align: right;\n",
       "    }\n",
       "</style>\n",
       "<table border=\"1\" class=\"dataframe\">\n",
       "  <thead>\n",
       "    <tr style=\"text-align: right;\">\n",
       "      <th></th>\n",
       "      <th>Pat_ID</th>\n",
       "      <th>Age</th>\n",
       "      <th>Sex</th>\n",
       "      <th>Name_InitialMed</th>\n",
       "      <th>Date_InitialRx</th>\n",
       "      <th>sBP_t-6</th>\n",
       "      <th>Date_t-6</th>\n",
       "      <th>sBP_t-5</th>\n",
       "      <th>Date_t-5</th>\n",
       "      <th>sBP_t-4</th>\n",
       "      <th>...</th>\n",
       "      <th>Date_t+3</th>\n",
       "      <th>sBP_t+4</th>\n",
       "      <th>Date_t+4</th>\n",
       "      <th>sBP_t+5</th>\n",
       "      <th>Date_t+5</th>\n",
       "      <th>sBP_t+6</th>\n",
       "      <th>Date_t+6</th>\n",
       "      <th>Before_BP_Ave</th>\n",
       "      <th>After_BP_Ave</th>\n",
       "      <th>Delta_Before-After</th>\n",
       "    </tr>\n",
       "  </thead>\n",
       "  <tbody>\n",
       "    <tr>\n",
       "      <th>0</th>\n",
       "      <td>3009000000002127</td>\n",
       "      <td>78</td>\n",
       "      <td>Female</td>\n",
       "      <td>ACEBUTOLOL</td>\n",
       "      <td>2007-12-18</td>\n",
       "      <td>NaN</td>\n",
       "      <td>NaN</td>\n",
       "      <td>NaN</td>\n",
       "      <td>NaN</td>\n",
       "      <td>NaN</td>\n",
       "      <td>...</td>\n",
       "      <td>2008-02-05</td>\n",
       "      <td>164.0</td>\n",
       "      <td>2008-02-14</td>\n",
       "      <td>144.0</td>\n",
       "      <td>2008-08-21</td>\n",
       "      <td>140.0</td>\n",
       "      <td>2009-03-18</td>\n",
       "      <td>184.142857</td>\n",
       "      <td>171.666667</td>\n",
       "      <td>-12.476190</td>\n",
       "    </tr>\n",
       "    <tr>\n",
       "      <th>1</th>\n",
       "      <td>2001000000033249</td>\n",
       "      <td>60</td>\n",
       "      <td>Male</td>\n",
       "      <td>ACEBUTOLOL</td>\n",
       "      <td>2010-11-01</td>\n",
       "      <td>150.0</td>\n",
       "      <td>2008-01-14</td>\n",
       "      <td>130.0</td>\n",
       "      <td>2008-02-26</td>\n",
       "      <td>150.0</td>\n",
       "      <td>...</td>\n",
       "      <td>2012-01-17</td>\n",
       "      <td>153.0</td>\n",
       "      <td>2012-05-16</td>\n",
       "      <td>128.0</td>\n",
       "      <td>2012-06-05</td>\n",
       "      <td>118.0</td>\n",
       "      <td>2012-06-12</td>\n",
       "      <td>210.000000</td>\n",
       "      <td>190.000000</td>\n",
       "      <td>-20.000000</td>\n",
       "    </tr>\n",
       "    <tr>\n",
       "      <th>2</th>\n",
       "      <td>1003000000071385</td>\n",
       "      <td>84</td>\n",
       "      <td>Female</td>\n",
       "      <td>ACEBUTOLOL</td>\n",
       "      <td>2006-10-18</td>\n",
       "      <td>NaN</td>\n",
       "      <td>NaN</td>\n",
       "      <td>NaN</td>\n",
       "      <td>NaN</td>\n",
       "      <td>NaN</td>\n",
       "      <td>...</td>\n",
       "      <td>2007-08-01</td>\n",
       "      <td>162.0</td>\n",
       "      <td>2007-10-19</td>\n",
       "      <td>170.0</td>\n",
       "      <td>2008-01-11</td>\n",
       "      <td>172.0</td>\n",
       "      <td>2008-04-04</td>\n",
       "      <td>210.000000</td>\n",
       "      <td>154.666667</td>\n",
       "      <td>-55.333333</td>\n",
       "    </tr>\n",
       "    <tr>\n",
       "      <th>3</th>\n",
       "      <td>10001000000008854</td>\n",
       "      <td>103</td>\n",
       "      <td>Female</td>\n",
       "      <td>ACEBUTOLOL</td>\n",
       "      <td>2002-04-30</td>\n",
       "      <td>NaN</td>\n",
       "      <td>NaN</td>\n",
       "      <td>NaN</td>\n",
       "      <td>NaN</td>\n",
       "      <td>NaN</td>\n",
       "      <td>...</td>\n",
       "      <td>2003-07-08</td>\n",
       "      <td>NaN</td>\n",
       "      <td>NaN</td>\n",
       "      <td>NaN</td>\n",
       "      <td>NaN</td>\n",
       "      <td>NaN</td>\n",
       "      <td>NaN</td>\n",
       "      <td>210.000000</td>\n",
       "      <td>154.666667</td>\n",
       "      <td>-55.333333</td>\n",
       "    </tr>\n",
       "    <tr>\n",
       "      <th>4</th>\n",
       "      <td>1003000000139736</td>\n",
       "      <td>69</td>\n",
       "      <td>Male</td>\n",
       "      <td>ACEBUTOLOL</td>\n",
       "      <td>2006-07-18</td>\n",
       "      <td>NaN</td>\n",
       "      <td>NaN</td>\n",
       "      <td>NaN</td>\n",
       "      <td>NaN</td>\n",
       "      <td>188.0</td>\n",
       "      <td>...</td>\n",
       "      <td>2006-11-07</td>\n",
       "      <td>200.0</td>\n",
       "      <td>2006-12-05</td>\n",
       "      <td>188.0</td>\n",
       "      <td>2007-01-16</td>\n",
       "      <td>174.0</td>\n",
       "      <td>2007-03-13</td>\n",
       "      <td>183.000000</td>\n",
       "      <td>123.000000</td>\n",
       "      <td>-60.000000</td>\n",
       "    </tr>\n",
       "  </tbody>\n",
       "</table>\n",
       "<p>5 rows × 34 columns</p>\n",
       "</div>"
      ],
      "text/plain": [
       "              Pat_ID  Age     Sex Name_InitialMed Date_InitialRx  sBP_t-6  \\\n",
       "0   3009000000002127   78  Female      ACEBUTOLOL     2007-12-18      NaN   \n",
       "1   2001000000033249   60    Male      ACEBUTOLOL     2010-11-01    150.0   \n",
       "2   1003000000071385   84  Female      ACEBUTOLOL     2006-10-18      NaN   \n",
       "3  10001000000008854  103  Female      ACEBUTOLOL     2002-04-30      NaN   \n",
       "4   1003000000139736   69    Male      ACEBUTOLOL     2006-07-18      NaN   \n",
       "\n",
       "     Date_t-6  sBP_t-5    Date_t-5  sBP_t-4         ...            Date_t+3  \\\n",
       "0         NaN      NaN         NaN      NaN         ...          2008-02-05   \n",
       "1  2008-01-14    130.0  2008-02-26    150.0         ...          2012-01-17   \n",
       "2         NaN      NaN         NaN      NaN         ...          2007-08-01   \n",
       "3         NaN      NaN         NaN      NaN         ...          2003-07-08   \n",
       "4         NaN      NaN         NaN    188.0         ...          2006-11-07   \n",
       "\n",
       "   sBP_t+4    Date_t+4  sBP_t+5    Date_t+5  sBP_t+6    Date_t+6  \\\n",
       "0    164.0  2008-02-14    144.0  2008-08-21    140.0  2009-03-18   \n",
       "1    153.0  2012-05-16    128.0  2012-06-05    118.0  2012-06-12   \n",
       "2    162.0  2007-10-19    170.0  2008-01-11    172.0  2008-04-04   \n",
       "3      NaN         NaN      NaN         NaN      NaN         NaN   \n",
       "4    200.0  2006-12-05    188.0  2007-01-16    174.0  2007-03-13   \n",
       "\n",
       "   Before_BP_Ave After_BP_Ave  Delta_Before-After  \n",
       "0     184.142857   171.666667          -12.476190  \n",
       "1     210.000000   190.000000          -20.000000  \n",
       "2     210.000000   154.666667          -55.333333  \n",
       "3     210.000000   154.666667          -55.333333  \n",
       "4     183.000000   123.000000          -60.000000  \n",
       "\n",
       "[5 rows x 34 columns]"
      ]
     },
     "execution_count": 2,
     "metadata": {},
     "output_type": "execute_result"
    }
   ],
   "source": [
    "# importing the patient data\n",
    "data = pd.read_csv('raw data.csv')\n",
    "data.head()"
   ]
  },
  {
   "cell_type": "code",
   "execution_count": 3,
   "metadata": {},
   "outputs": [],
   "source": [
    "# importing the drugs table\n",
    "drugs = pd.read_csv('drug_info2.csv', encoding = \"ISO-8859-1\")"
   ]
  },
  {
   "cell_type": "code",
   "execution_count": 5,
   "metadata": {},
   "outputs": [
    {
     "name": "stderr",
     "output_type": "stream",
     "text": [
      "/scinet/niagara/software/2018a/opt/base/anaconda3/5.1.0-hub/lib/python3.6/site-packages/ipykernel_launcher.py:4: SettingWithCopyWarning: \n",
      "A value is trying to be set on a copy of a slice from a DataFrame.\n",
      "Try using .loc[row_indexer,col_indexer] = value instead\n",
      "\n",
      "See the caveats in the documentation: http://pandas.pydata.org/pandas-docs/stable/indexing.html#indexing-view-versus-copy\n",
      "  after removing the cwd from sys.path.\n"
     ]
    },
    {
     "data": {
      "text/html": [
       "<div>\n",
       "<style scoped>\n",
       "    .dataframe tbody tr th:only-of-type {\n",
       "        vertical-align: middle;\n",
       "    }\n",
       "\n",
       "    .dataframe tbody tr th {\n",
       "        vertical-align: top;\n",
       "    }\n",
       "\n",
       "    .dataframe thead th {\n",
       "        text-align: right;\n",
       "    }\n",
       "</style>\n",
       "<table border=\"1\" class=\"dataframe\">\n",
       "  <thead>\n",
       "    <tr style=\"text-align: right;\">\n",
       "      <th></th>\n",
       "      <th>Age</th>\n",
       "      <th>Sex</th>\n",
       "      <th>Delta_Before-After</th>\n",
       "      <th>Drug Name</th>\n",
       "    </tr>\n",
       "  </thead>\n",
       "  <tbody>\n",
       "    <tr>\n",
       "      <th>0</th>\n",
       "      <td>78</td>\n",
       "      <td>Female</td>\n",
       "      <td>-12.476190</td>\n",
       "      <td>acebutolol</td>\n",
       "    </tr>\n",
       "    <tr>\n",
       "      <th>1</th>\n",
       "      <td>60</td>\n",
       "      <td>Male</td>\n",
       "      <td>-20.000000</td>\n",
       "      <td>acebutolol</td>\n",
       "    </tr>\n",
       "    <tr>\n",
       "      <th>2</th>\n",
       "      <td>84</td>\n",
       "      <td>Female</td>\n",
       "      <td>-55.333333</td>\n",
       "      <td>acebutolol</td>\n",
       "    </tr>\n",
       "    <tr>\n",
       "      <th>3</th>\n",
       "      <td>103</td>\n",
       "      <td>Female</td>\n",
       "      <td>-55.333333</td>\n",
       "      <td>acebutolol</td>\n",
       "    </tr>\n",
       "    <tr>\n",
       "      <th>4</th>\n",
       "      <td>69</td>\n",
       "      <td>Male</td>\n",
       "      <td>-60.000000</td>\n",
       "      <td>acebutolol</td>\n",
       "    </tr>\n",
       "  </tbody>\n",
       "</table>\n",
       "</div>"
      ],
      "text/plain": [
       "   Age     Sex  Delta_Before-After   Drug Name\n",
       "0   78  Female          -12.476190  acebutolol\n",
       "1   60    Male          -20.000000  acebutolol\n",
       "2   84  Female          -55.333333  acebutolol\n",
       "3  103  Female          -55.333333  acebutolol\n",
       "4   69    Male          -60.000000  acebutolol"
      ]
     },
     "execution_count": 5,
     "metadata": {},
     "output_type": "execute_result"
    }
   ],
   "source": [
    "# extracting important features from the original data and renaming columns\n",
    "important_features = data[['Age', 'Sex', 'Delta_Before-After', 'Name_InitialMed']]\n",
    "important_features.columns = ['Age', 'Sex', 'Delta_Before-After', 'Drug Name']\n",
    "drugs.columns = ['No.', 'Drug Name','ATCb','ATCa','CLASS1b','CLASS2b','CLASS3b']\n",
    "important_features['Drug Name'] = important_features['Drug Name'].str.lower()\n",
    "important_features.head()"
   ]
  },
  {
   "cell_type": "code",
   "execution_count": 6,
   "metadata": {},
   "outputs": [],
   "source": [
    "# doing an inner join on Drug Names, removing unnessary columns afterwards\n",
    "merged = important_features.merge(drugs, how= 'inner', on='Drug Name' )\n",
    "merged = merged.drop(['No.', 'ATCb','ATCa', 'CLASS2b', 'CLASS3b'], axis = 1)\n",
    "merged.columns = ['Age', 'Sex', 'Delta', 'Drug Name', 'Drug Class']"
   ]
  },
  {
   "cell_type": "code",
   "execution_count": 7,
   "metadata": {},
   "outputs": [
    {
     "name": "stderr",
     "output_type": "stream",
     "text": [
      "/scinet/niagara/software/2018a/opt/base/anaconda3/5.1.0-hub/lib/python3.6/site-packages/ipykernel_launcher.py:3: SettingWithCopyWarning: \n",
      "A value is trying to be set on a copy of a slice from a DataFrame\n",
      "\n",
      "See the caveats in the documentation: http://pandas.pydata.org/pandas-docs/stable/indexing.html#indexing-view-versus-copy\n",
      "  This is separate from the ipykernel package so we can avoid doing imports until\n",
      "/scinet/niagara/software/2018a/opt/base/anaconda3/5.1.0-hub/lib/python3.6/site-packages/ipykernel_launcher.py:6: SettingWithCopyWarning: \n",
      "A value is trying to be set on a copy of a slice from a DataFrame\n",
      "\n",
      "See the caveats in the documentation: http://pandas.pydata.org/pandas-docs/stable/indexing.html#indexing-view-versus-copy\n",
      "  \n",
      "/scinet/niagara/software/2018a/opt/base/anaconda3/5.1.0-hub/lib/python3.6/site-packages/ipykernel_launcher.py:9: SettingWithCopyWarning: \n",
      "A value is trying to be set on a copy of a slice from a DataFrame\n",
      "\n",
      "See the caveats in the documentation: http://pandas.pydata.org/pandas-docs/stable/indexing.html#indexing-view-versus-copy\n",
      "  if __name__ == '__main__':\n"
     ]
    }
   ],
   "source": [
    "# data cleaning\n",
    "# converting incorrect versions of the sex to proper variables\n",
    "boolean_list = merged['Sex'] == 'FEMALE'\n",
    "merged['Sex'][boolean_list] = 'Female'\n",
    "\n",
    "boolean_list = merged['Sex'] == 'MALE'\n",
    "merged['Sex'][boolean_list] = 'Male'\n",
    "\n",
    "list_boolean = merged['Sex'] == 'nan'\n",
    "merged['Sex'][list_boolean] = np.nan"
   ]
  },
  {
   "cell_type": "code",
   "execution_count": 8,
   "metadata": {},
   "outputs": [],
   "source": [
    "# dropping all rows that doesn't have the correct category\n",
    "list_boolean = (merged['Sex'] != 'Female') & (merged['Sex'] !=  'Male')\n",
    "drop_rows = merged['Sex'][list_boolean].index\n",
    "merged = merged.drop(drop_rows)"
   ]
  },
  {
   "cell_type": "code",
   "execution_count": 9,
   "metadata": {},
   "outputs": [],
   "source": [
    "from sklearn.preprocessing import LabelEncoder"
   ]
  },
  {
   "cell_type": "code",
   "execution_count": 10,
   "metadata": {},
   "outputs": [],
   "source": [
    "# initalizing the label encoder\n",
    "le = LabelEncoder() \n",
    "merged = merged.drop(['Drug Name'], axis = 1)\n",
    "merged['Sex']= le.fit_transform(merged['Sex']) \n",
    "merged['Drug Class']= le.fit_transform(merged['Drug Class'])\n"
   ]
  },
  {
   "cell_type": "code",
   "execution_count": 11,
   "metadata": {},
   "outputs": [],
   "source": [
    "# creating dummy variables from labeled categories\n",
    "dummy_variables = pd.get_dummies(merged['Sex'])\n",
    "meds = pd.get_dummies(merged['Drug Class'])\n",
    "# attaching the sex dummy variable to the merged dataframe\n",
    "merged = pd.concat([merged, dummy_variables], axis='columns')"
   ]
  },
  {
   "cell_type": "code",
   "execution_count": 12,
   "metadata": {},
   "outputs": [],
   "source": [
    "from sklearn.preprocessing import StandardScaler"
   ]
  },
  {
   "cell_type": "code",
   "execution_count": 13,
   "metadata": {},
   "outputs": [],
   "source": [
    "# initalizing the Standard Scaler\n",
    "# normalizing the age and delta pressure variables\n",
    "st_x= StandardScaler()\n",
    "contin_variables = merged[['Age', 'Delta']]\n",
    "contin_variables = st_x.fit_transform(contin_variables)"
   ]
  },
  {
   "cell_type": "code",
   "execution_count": 16,
   "metadata": {},
   "outputs": [
    {
     "data": {
      "text/html": [
       "<div>\n",
       "<style scoped>\n",
       "    .dataframe tbody tr th:only-of-type {\n",
       "        vertical-align: middle;\n",
       "    }\n",
       "\n",
       "    .dataframe tbody tr th {\n",
       "        vertical-align: top;\n",
       "    }\n",
       "\n",
       "    .dataframe thead th {\n",
       "        text-align: right;\n",
       "    }\n",
       "</style>\n",
       "<table border=\"1\" class=\"dataframe\">\n",
       "  <thead>\n",
       "    <tr style=\"text-align: right;\">\n",
       "      <th></th>\n",
       "      <th>Age</th>\n",
       "      <th>Sex</th>\n",
       "      <th>Delta</th>\n",
       "      <th>Drug Class</th>\n",
       "      <th>0</th>\n",
       "      <th>1</th>\n",
       "    </tr>\n",
       "  </thead>\n",
       "  <tbody>\n",
       "    <tr>\n",
       "      <th>0</th>\n",
       "      <td>0.625926</td>\n",
       "      <td>0</td>\n",
       "      <td>-0.166815</td>\n",
       "      <td>3</td>\n",
       "      <td>1</td>\n",
       "      <td>0</td>\n",
       "    </tr>\n",
       "    <tr>\n",
       "      <th>1</th>\n",
       "      <td>-0.598697</td>\n",
       "      <td>1</td>\n",
       "      <td>-0.362644</td>\n",
       "      <td>3</td>\n",
       "      <td>0</td>\n",
       "      <td>1</td>\n",
       "    </tr>\n",
       "    <tr>\n",
       "      <th>2</th>\n",
       "      <td>1.034133</td>\n",
       "      <td>0</td>\n",
       "      <td>-1.282296</td>\n",
       "      <td>3</td>\n",
       "      <td>1</td>\n",
       "      <td>0</td>\n",
       "    </tr>\n",
       "    <tr>\n",
       "      <th>3</th>\n",
       "      <td>2.326791</td>\n",
       "      <td>0</td>\n",
       "      <td>-1.282296</td>\n",
       "      <td>3</td>\n",
       "      <td>1</td>\n",
       "      <td>0</td>\n",
       "    </tr>\n",
       "    <tr>\n",
       "      <th>4</th>\n",
       "      <td>0.013614</td>\n",
       "      <td>1</td>\n",
       "      <td>-1.403759</td>\n",
       "      <td>3</td>\n",
       "      <td>0</td>\n",
       "      <td>1</td>\n",
       "    </tr>\n",
       "  </tbody>\n",
       "</table>\n",
       "</div>"
      ],
      "text/plain": [
       "        Age  Sex     Delta  Drug Class  0  1\n",
       "0  0.625926    0 -0.166815           3  1  0\n",
       "1 -0.598697    1 -0.362644           3  0  1\n",
       "2  1.034133    0 -1.282296           3  1  0\n",
       "3  2.326791    0 -1.282296           3  1  0\n",
       "4  0.013614    1 -1.403759           3  0  1"
      ]
     },
     "execution_count": 16,
     "metadata": {},
     "output_type": "execute_result"
    }
   ],
   "source": [
    "# attaching the normalized variables to the original dataframe\n",
    "merged[['Age','Delta']] = contin_variables\n",
    "merged.head()"
   ]
  },
  {
   "cell_type": "code",
   "execution_count": 17,
   "metadata": {},
   "outputs": [],
   "source": [
    "X = merged.drop(['Sex','Drug Class'], axis = 'columns')\n",
    "X.columns = ['Age','Delta', 'Female', 'Male']\n",
    "# dropping one of the dummy variables, to avoid multicollinearity\n",
    "X =  X.drop(['Female'], axis = 'columns')"
   ]
  },
  {
   "cell_type": "code",
   "execution_count": 18,
   "metadata": {},
   "outputs": [],
   "source": [
    "#changing column name on the medicine list\n",
    "meds.columns = ['0','1','two','3','4','5']\n",
    "Y = meds.drop(['two'], axis = 'columns')"
   ]
  },
  {
   "cell_type": "code",
   "execution_count": 19,
   "metadata": {},
   "outputs": [],
   "source": [
    "from sklearn.model_selection import train_test_split"
   ]
  },
  {
   "cell_type": "code",
   "execution_count": 20,
   "metadata": {},
   "outputs": [],
   "source": [
    "# doing a train test split on 67/33 split\n",
    "X_train, X_test, y_train, y_test = train_test_split(X, Y, test_size=0.33, random_state=42)"
   ]
  },
  {
   "cell_type": "code",
   "execution_count": 21,
   "metadata": {},
   "outputs": [],
   "source": [
    "# training the knn model with the data and predicting the X-test values\n",
    "knn = KNeighborsRegressor(n_neighbors=2)\n",
    "knn.fit(X_train, y_train)\n",
    "prediction_knn = knn.predict(X_test)"
   ]
  },
  {
   "cell_type": "code",
   "execution_count": 22,
   "metadata": {},
   "outputs": [],
   "source": [
    "# convert prediction array into a Pandas DataFrame and assign it columns\n",
    "predictDF_knn = pd.DataFrame(prediction_knn)\n",
    "predictDF_knn.columns = ['1','2','3','4','5']"
   ]
  },
  {
   "cell_type": "code",
   "execution_count": 23,
   "metadata": {},
   "outputs": [],
   "source": [
    "# convert dummy variable of prediction back to a label\n",
    "predictDF_knn = predictDF_knn.idxmax(axis = 1)"
   ]
  },
  {
   "cell_type": "code",
   "execution_count": 24,
   "metadata": {},
   "outputs": [],
   "source": [
    "# converting label back to category of drug (inverse label encoding)\n",
    "predict_knn_list = []\n",
    "\n",
    "for num in predictDF_knn:\n",
    "    predict_knn_list.append(le.inverse_transform(int(num)))"
   ]
  },
  {
   "cell_type": "code",
   "execution_count": 31,
   "metadata": {},
   "outputs": [
    {
     "data": {
      "text/plain": [
       "['ANGIOTENSIN II ANTAGONISTS, PLAIN',\n",
       " 'ANGIOTENSIN II ANTAGONISTS, PLAIN',\n",
       " 'BETA BLOCKING AGENTS',\n",
       " 'BETA BLOCKING AGENTS',\n",
       " 'CALCIUM CHANNEL BLOCKERS']"
      ]
     },
     "execution_count": 31,
     "metadata": {},
     "output_type": "execute_result"
    }
   ],
   "source": [
    "# showing top 5 rows of predicted values\n",
    "predict_knn_list[0:5]"
   ]
  },
  {
   "cell_type": "code",
   "execution_count": 26,
   "metadata": {},
   "outputs": [],
   "source": [
    "# converting dummy to label encoding for Y-test array\n",
    "y_test = y_test.idxmax(axis = 1)"
   ]
  },
  {
   "cell_type": "code",
   "execution_count": 27,
   "metadata": {},
   "outputs": [],
   "source": [
    "# converting label back to category of drug (inverse label encoding)\n",
    "y_test_list = []\n",
    "\n",
    "for result in y_test:\n",
    "    y_test_list.append(le.inverse_transform(int(result)))"
   ]
  },
  {
   "cell_type": "code",
   "execution_count": 32,
   "metadata": {},
   "outputs": [
    {
     "data": {
      "text/plain": [
       "['DIURETICS',\n",
       " 'ACE INHIBITORS, PLAIN',\n",
       " 'ANGIOTENSIN II ANTAGONISTS, PLAIN',\n",
       " 'CALCIUM CHANNEL BLOCKERS',\n",
       " 'ACE INHIBITORS, PLAIN']"
      ]
     },
     "execution_count": 32,
     "metadata": {},
     "output_type": "execute_result"
    }
   ],
   "source": [
    "y_test_list[0:5]"
   ]
  },
  {
   "cell_type": "code",
   "execution_count": 28,
   "metadata": {},
   "outputs": [
    {
     "data": {
      "text/plain": [
       "6164"
      ]
     },
     "execution_count": 28,
     "metadata": {},
     "output_type": "execute_result"
    }
   ],
   "source": [
    "# calculating how many predictions were correct according to the acutal values\n",
    "i = 0\n",
    "correct = 0\n",
    "while i < len(y_test_list):\n",
    "    if predict_knn_list[i] == y_test_list[i]:\n",
    "        correct += 1\n",
    "    i += 1\n",
    "correct"
   ]
  },
  {
   "cell_type": "code",
   "execution_count": 29,
   "metadata": {},
   "outputs": [
    {
     "data": {
      "text/plain": [
       "0.16392309124272"
      ]
     },
     "execution_count": 29,
     "metadata": {},
     "output_type": "execute_result"
    }
   ],
   "source": [
    "# calculating accuracy\n",
    "correct/len(y_test_list)"
   ]
  }
 ],
 "metadata": {
  "kernelspec": {
   "display_name": "Python 3",
   "language": "python",
   "name": "python3"
  },
  "language_info": {
   "codemirror_mode": {
    "name": "ipython",
    "version": 3
   },
   "file_extension": ".py",
   "mimetype": "text/x-python",
   "name": "python",
   "nbconvert_exporter": "python",
   "pygments_lexer": "ipython3",
   "version": "3.6.4"
  }
 },
 "nbformat": 4,
 "nbformat_minor": 2
}
